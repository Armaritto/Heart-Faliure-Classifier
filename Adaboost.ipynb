{
 "cells": [
  {
   "cell_type": "markdown",
   "metadata": {},
   "source": [
    "# Data Loading and Splitting"
   ]
  },
  {
   "cell_type": "code",
   "execution_count": 78,
   "metadata": {},
   "outputs": [
    {
     "name": "stdout",
     "output_type": "stream",
     "text": [
      "Training Set: (642, 20), Validation: (92, 20), Test: (184, 20)\n"
     ]
    }
   ],
   "source": [
    "import pandas as pd\n",
    "from sklearn.model_selection import train_test_split\n",
    "from sklearn.preprocessing import OneHotEncoder, StandardScaler\n",
    "import numpy as np\n",
    "\n",
    "# Load and clean data\n",
    "df = pd.read_csv(\"heart.csv\")\n",
    "df.columns = df.columns.str.strip()\n",
    "\n",
    "# Identify categorical and numerical columns\n",
    "cat_col = [col for col in df.columns if df[col].dtype == 'object']\n",
    "num_col = [col for col in df.columns if (df[col].dtype in ['int64', 'float64']) \n",
    "          and (col != \"HeartDisease\")]\n",
    "\n",
    "# Split data into features (X) and target (Y)\n",
    "x = df.drop(\"HeartDisease\", axis=1)\n",
    "Y = df[\"HeartDisease\"]\n",
    "\n",
    "# Split into train, validation, and test sets\n",
    "x_train, x_temp, y_train, y_temp = train_test_split(\n",
    "    x, Y, test_size=0.30, stratify=Y, random_state=42\n",
    ")\n",
    "x_val, x_test, y_val, y_test = train_test_split(\n",
    "    x_temp, y_temp, test_size=2/3, stratify=y_temp, random_state=42\n",
    ")\n",
    "\n",
    "# Reset indices to ensure alignment between features and labels\n",
    "x_train = x_train.reset_index(drop=True)\n",
    "y_train = y_train.reset_index(drop=True)\n",
    "x_val = x_val.reset_index(drop=True)\n",
    "y_val = y_val.reset_index(drop=True)\n",
    "x_test = x_test.reset_index(drop=True)\n",
    "y_test = y_test.reset_index(drop=True)\n",
    "\n",
    "# Initialize encoders/scalers\n",
    "ohe = OneHotEncoder(handle_unknown=\"ignore\", sparse_output=False)\n",
    "scaler = StandardScaler()\n",
    "\n",
    "# Process training data\n",
    "x_train_cat = ohe.fit_transform(x_train[cat_col])\n",
    "x_train_num = scaler.fit_transform(x_train[num_col])\n",
    "x_train_processed = np.hstack([x_train_num, x_train_cat])\n",
    "\n",
    "# Process validation/test data\n",
    "x_val_cat = ohe.transform(x_val[cat_col])\n",
    "x_val_num = scaler.transform(x_val[num_col])\n",
    "x_val_processed = np.hstack([x_val_num, x_val_cat])\n",
    "\n",
    "x_test_cat = ohe.transform(x_test[cat_col])\n",
    "x_test_num = scaler.transform(x_test[num_col])\n",
    "x_test_processed = np.hstack([x_test_num, x_test_cat])\n",
    "\n",
    "# Get feature names\n",
    "num_feature_names = num_col\n",
    "cat_feature_names = ohe.get_feature_names_out(cat_col)\n",
    "all_feature_names = num_feature_names + list(cat_feature_names)\n",
    "\n",
    "# Create DataFrames with reset indices\n",
    "x_train = pd.DataFrame(x_train_processed, columns=all_feature_names)\n",
    "x_val = pd.DataFrame(x_val_processed, columns=all_feature_names)\n",
    "x_test = pd.DataFrame(x_test_processed, columns=all_feature_names)\n",
    "\n",
    "print(f\"Training Set: {x_train.shape}, Validation: {x_val.shape}, Test: {x_test.shape}\")"
   ]
  },
  {
   "cell_type": "markdown",
   "metadata": {},
   "source": [
    "# Stump class"
   ]
  },
  {
   "cell_type": "code",
   "execution_count": null,
   "metadata": {},
   "outputs": [],
   "source": [
    "class Stump:\n",
    "    def __init__(self):\n",
    "        self.best_split = None\n",
    "        self.best_threshold = None\n",
    "        self.classification_direction = 1\n",
    "        self.min_error = float(\"inf\")\n",
    "        self.weight = None\n",
    "    \n",
    "    def misclassification_error(self, y, predictions, sample_weights):\n",
    "        return np.sum(sample_weights[predictions != y])\n",
    "    \n",
    "    def change_min_error(self, error, feature, threshold, direction):\n",
    "        self.min_error = error\n",
    "        self.best_split = feature\n",
    "        self.best_threshold = threshold\n",
    "        self.classification_direction = direction\n",
    "\n",
    "    def fit(self, x, y, sample_weights):\n",
    "        num_samples, num_features = x.shape\n",
    "\n",
    "        # iterate over all features and all possible thresholds to find the best decision stump\n",
    "        for feature in range(num_features):\n",
    "            feature_values = np.unique(x[:, feature])\n",
    "            for threshold in feature_values:\n",
    "                for direction in [0, 1]:\n",
    "                    predictions = np.ones(num_samples)\n",
    "                    if direction == 1:\n",
    "                        predictions[x[:, feature] < threshold] = 0\n",
    "                    else:\n",
    "                        predictions[x[:, feature] > threshold] = 0\n",
    "\n",
    "                    error = self.misclassification_error(y, predictions, sample_weights)\n",
    "\n",
    "                    if error < self.min_error:\n",
    "                        self.change_min_error(error, feature, threshold, direction)\n",
    "                        \n",
    "\n",
    "    def predict(self, x):\n",
    "        N = x.shape[0]\n",
    "        predictions = np.ones(N)\n",
    "        if self.classification_direction == 1:\n",
    "            for i in range(N):\n",
    "                if x[i, self.best_split] < self.best_threshold:\n",
    "                    predictions[i] = 0\n",
    "        else:\n",
    "            for i in range(N):\n",
    "                if x[i, self.best_split] > self.best_threshold:\n",
    "                    predictions[i] = 0\n",
    "\n",
    "        return predictions"
   ]
  },
  {
   "cell_type": "markdown",
   "metadata": {},
   "source": [
    "# Adaboost Class"
   ]
  },
  {
   "cell_type": "code",
   "execution_count": 92,
   "metadata": {},
   "outputs": [],
   "source": [
    "class Adaboost:\n",
    "    def __init__(self, num_iterations):\n",
    "        self.num_iterations = num_iterations\n",
    "        self.weights = []\n",
    "        self.stumps = []\n",
    "\n",
    "    def train(self, x, y):\n",
    "        num_samples = x.shape[0]\n",
    "        sample_weights = np.ones(num_samples) / num_samples\n",
    "\n",
    "        for _ in range(self.num_iterations):\n",
    "            stump = Stump()\n",
    "            stump.fit(x, y, sample_weights)\n",
    "            predictions = stump.predict(x)\n",
    "\n",
    "            error = np.sum(sample_weights[predictions != y]) / np.sum(sample_weights)\n",
    "\n",
    "            if error > 0.5:\n",
    "                print(\"Error is greater than 0.5, stopping training because it's worse than random guessing\")\n",
    "                break\n",
    "\n",
    "            weight = 0.5 * np.log((1 - error) / error)\n",
    "            stump.weight = weight\n",
    "\n",
    "            sample_weights *= np.exp(-weight * (2 * y - 1) * (2 * predictions - 1))\n",
    "            sample_weights /= np.sum(sample_weights)\n",
    "\n",
    "            self.stumps.append(stump)\n",
    "            self.weights.append(weight)\n",
    "\n",
    "    def predict(self, x):\n",
    "        num_samples = x.shape[0]\n",
    "        final_predictions = np.zeros(num_samples)\n",
    "\n",
    "        for stump, weight in zip(self.stumps, self.weights):\n",
    "            final_predictions += weight * stump.predict(x)\n",
    "\n",
    "        return (final_predictions >= (0.5 * sum(self.weights))).astype(int)"
   ]
  },
  {
   "cell_type": "markdown",
   "metadata": {},
   "source": [
    "# Training the Model"
   ]
  },
  {
   "cell_type": "code",
   "execution_count": 93,
   "metadata": {},
   "outputs": [],
   "source": [
    "adaboost = Adaboost(num_iterations=50)\n",
    "adaboost.train(x_train.values, y_train.values)\n",
    "prediction_train = adaboost.predict(x_train.values)\n",
    "prediction_val = adaboost.predict(x_val.values)\n",
    "prediction_test = adaboost.predict(x_test.values)"
   ]
  },
  {
   "cell_type": "markdown",
   "metadata": {},
   "source": [
    "# Results and Evaluation"
   ]
  },
  {
   "cell_type": "code",
   "execution_count": 95,
   "metadata": {},
   "outputs": [
    {
     "name": "stdout",
     "output_type": "stream",
     "text": [
      "Test Accuracy: 0.8641\n",
      "Test F1 Score: 0.8731\n"
     ]
    },
    {
     "data": {
      "image/png": "[encoded data removed]",
      "text/plain": [
       "<Figure size 800x600 with 2 Axes>"
      ]
     },
     "metadata": {},
     "output_type": "display_data"
    }
   ],
   "source": [
    "import matplotlib.pyplot as plt\n",
    "import seaborn as sns\n",
    "from sklearn.metrics import confusion_matrix, accuracy_score, f1_score\n",
    "\n",
    "accuracy = accuracy_score(y_test, prediction_test)\n",
    "f1 = f1_score(y_test, prediction_test)\n",
    "conf_matrix = confusion_matrix(y_test, prediction_test)\n",
    "\n",
    "print(f\"Test Accuracy: {accuracy:.4f}\")\n",
    "print(f\"Test F1 Score: {f1:.4f}\")\n",
    "\n",
    "plt.figure(figsize=(8, 6))\n",
    "sns.heatmap(conf_matrix, annot=True, fmt=\"d\", cmap=\"Blues\")\n",
    "plt.xlabel(\"Predicted Label\")\n",
    "plt.ylabel(\"Actual Label\")\n",
    "plt.title(\"Confusion Matrix\")\n",
    "plt.show()"
   ]
  }
 ],
 "metadata": {
  "kernelspec": {
   "display_name": "Python (snakes)",
   "language": "python",
   "name": "snakes"
  },
  "language_info": {
   "codemirror_mode": {
    "name": "ipython",
    "version": 3
   },
   "file_extension": ".py",
   "mimetype": "text/x-python",
   "name": "python",
   "nbconvert_exporter": "python",
   "pygments_lexer": "ipython3",
   "version": "3.12.3"
  }
 },
 "nbformat": 4,
 "nbformat_minor": 2
}
