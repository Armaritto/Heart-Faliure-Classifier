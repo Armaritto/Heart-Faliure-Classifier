{
 "cells": [
  {
   "cell_type": "markdown",
   "metadata": {},
   "source": [
    "# Decision Tree part"
   ]
  },
  {
   "cell_type": "markdown",
   "metadata": {},
   "source": [
    "# data loading and splitting"
   ]
  },
  {
   "cell_type": "code",
   "execution_count": 98,
   "metadata": {},
   "outputs": [
    {
     "name": "stdout",
     "output_type": "stream",
     "text": [
      "Training Set: (642, 20), Validation: (92, 20), Test: (184, 20)\n"
     ]
    }
   ],
   "source": [
    "import pandas as pd\n",
    "from sklearn.model_selection import train_test_split\n",
    "from sklearn.preprocessing import OneHotEncoder, StandardScaler\n",
    "import numpy as np\n",
    "\n",
    "# Load and clean data\n",
    "df = pd.read_csv(\"heart.csv\")\n",
    "df.columns = df.columns.str.strip()\n",
    "\n",
    "# Identify categorical and numerical columns\n",
    "cat_col = [col for col in df.columns if df[col].dtype == 'object']\n",
    "num_col = [col for col in df.columns if (df[col].dtype in ['int64', 'float64']) \n",
    "          and (col != \"HeartDisease\")]\n",
    "\n",
    "# Split data into features (X) and target (Y)\n",
    "X = df.drop(\"HeartDisease\", axis=1)\n",
    "Y = df[\"HeartDisease\"]\n",
    "\n",
    "# Split into train, validation, and test sets\n",
    "x_train, x_temp, y_train, y_temp = train_test_split(\n",
    "    X, Y, test_size=0.30, stratify=Y, random_state=42\n",
    ")\n",
    "x_val, x_test, y_val, y_test = train_test_split(\n",
    "    x_temp, y_temp, test_size=2/3, stratify=y_temp, random_state=42\n",
    ")\n",
    "\n",
    "# Reset indices to ensure alignment between features and labels\n",
    "x_train = x_train.reset_index(drop=True)\n",
    "y_train = y_train.reset_index(drop=True)\n",
    "x_val = x_val.reset_index(drop=True)\n",
    "y_val = y_val.reset_index(drop=True)\n",
    "x_test = x_test.reset_index(drop=True)\n",
    "y_test = y_test.reset_index(drop=True)\n",
    "\n",
    "# Initialize encoders/scalers\n",
    "ohe = OneHotEncoder(handle_unknown=\"ignore\", sparse=False)\n",
    "scaler = StandardScaler()\n",
    "\n",
    "# Process training data\n",
    "x_train_cat = ohe.fit_transform(x_train[cat_col])\n",
    "x_train_num = scaler.fit_transform(x_train[num_col])\n",
    "x_train_processed = np.hstack([x_train_num, x_train_cat])\n",
    "\n",
    "# Process validation/test data\n",
    "x_val_cat = ohe.transform(x_val[cat_col])\n",
    "x_val_num = scaler.transform(x_val[num_col])\n",
    "x_val_processed = np.hstack([x_val_num, x_val_cat])\n",
    "\n",
    "x_test_cat = ohe.transform(x_test[cat_col])\n",
    "x_test_num = scaler.transform(x_test[num_col])\n",
    "x_test_processed = np.hstack([x_test_num, x_test_cat])\n",
    "\n",
    "# Get feature names\n",
    "num_feature_names = num_col\n",
    "cat_feature_names = ohe.get_feature_names_out(cat_col)\n",
    "all_feature_names = num_feature_names + list(cat_feature_names)\n",
    "\n",
    "# Create DataFrames with reset indices\n",
    "x_train = pd.DataFrame(x_train_processed, columns=all_feature_names)\n",
    "x_val = pd.DataFrame(x_val_processed, columns=all_feature_names)\n",
    "x_test = pd.DataFrame(x_test_processed, columns=all_feature_names)\n",
    "\n",
    "print(f\"Training Set: {x_train.shape}, Validation: {x_val.shape}, Test: {x_test.shape}\")"
   ]
  },
  {
   "cell_type": "markdown",
   "metadata": {},
   "source": [
    "# different depths to try with "
   ]
  },
  {
   "cell_type": "code",
   "execution_count": 99,
   "metadata": {},
   "outputs": [],
   "source": [
    "\n",
    "#min depth of a full binary tree log2(918)=10 , the best depth is around this value\n",
    "valid_depths=[4,5,6,7,8,9,10,11,12,13,14,15,16]\n",
    "trained_trees={}   # map from depth to training node\n"
   ]
  },
  {
   "cell_type": "markdown",
   "metadata": {},
   "source": [
    "# Node class"
   ]
  },
  {
   "cell_type": "code",
   "execution_count": 100,
   "metadata": {},
   "outputs": [],
   "source": [
    "import math\n",
    "import random\n",
    "\n",
    "class TrainingNode:\n",
    "    def __init__(self, x_train, y_train, current_depth=0, label=None):\n",
    "        self.x_train = x_train\n",
    "        self.y_train = y_train\n",
    "        self.current_depth = current_depth\n",
    "        self.label = label\n",
    "        self.split_feature = None\n",
    "        self.split_value = None  # Threshold for binary splits (0.5 for one-hot encoded features)\n",
    "        self.children = {}       # Only 'left' and 'right'\n",
    "\n",
    "    def compute_entropy(self, y):\n",
    "        if len(y) == 0:\n",
    "            return 0\n",
    "        proportions = y.value_counts(normalize=True)\n",
    "        return -sum(p * math.log2(p) for p in proportions if p > 0)\n",
    "\n",
    "    def majority_label(self):\n",
    "        if len(self.y_train) == 0:\n",
    "            return self.label\n",
    "        return self.y_train.mode()[0]\n",
    "\n",
    "    def best_split(self):\n",
    "        base_entropy = self.compute_entropy(self.y_train)\n",
    "        best_gain = 0\n",
    "        best_feature = None\n",
    "        best_value = None\n",
    "        \n",
    "        for feature in self.x_train.columns:\n",
    "            values = self.x_train[feature]\n",
    "            \n",
    "            if pd.api.types.is_numeric_dtype(values):\n",
    "                sorted_vals = sorted(values.unique())\n",
    "                # For one-hot encoded features, sorted_vals will be [0, 1], threshold = 0.5\n",
    "                for i in range(len(sorted_vals) - 1):\n",
    "                    threshold = (sorted_vals[i] + sorted_vals[i+1]) / 2\n",
    "                    left_mask = values <= threshold\n",
    "                    right_mask = values > threshold\n",
    "\n",
    "                    # Calculate entropy for left and right\n",
    "                    left_entropy = self.compute_entropy(self.y_train[left_mask])\n",
    "                    right_entropy = self.compute_entropy(self.y_train[right_mask])\n",
    "\n",
    "                    weighted_entropy = (\n",
    "                        left_mask.sum() * left_entropy\n",
    "                        + right_mask.sum() * right_entropy\n",
    "                    ) / len(self.y_train)\n",
    "\n",
    "                    gain = base_entropy - weighted_entropy\n",
    "                    if gain > best_gain:\n",
    "                        best_gain = gain\n",
    "                        best_feature = feature\n",
    "                        best_value = threshold\n",
    "        \n",
    "        return best_feature, best_value, best_gain\n",
    "\n",
    "    def expand_node(self, max_depth, parent_label=None):\n",
    "        # 1) If node has no samples, set label to parent's majority\n",
    "        if self.x_train.shape[0] == 0:\n",
    "            self.label = parent_label\n",
    "            return\n",
    "        \n",
    "        # 2) Stop if max depth reached or node is pure\n",
    "        if self.current_depth >= max_depth or self.compute_entropy(self.y_train) == 0:\n",
    "            self.label = self.majority_label()\n",
    "            return\n",
    "        \n",
    "        # 3) Find best split \n",
    "        best_feature, best_value, gain = self.best_split()\n",
    "\n",
    "        if best_feature is None:\n",
    "            best_feature = random.choice(list(self.x_train.columns))\n",
    "            values = self.x_train[best_feature]\n",
    "            if pd.api.types.is_numeric_dtype(values):\n",
    "                min_val = values.min()\n",
    "                max_val = values.max()\n",
    "                best_value = random.uniform(min_val, max_val)\n",
    "            else:\n",
    "                best_value = 0.5\n",
    "        \n",
    "        self.split_feature = best_feature\n",
    "        self.split_value = best_value\n",
    "\n",
    "        # Create left and right children\n",
    "        left_mask = self.x_train[best_feature] <= best_value\n",
    "        right_mask = ~left_mask\n",
    "\n",
    "        # Left Child\n",
    "        left_x = self.x_train[left_mask]\n",
    "        left_y = self.y_train[left_mask]\n",
    "        self.children['left'] = TrainingNode(left_x, left_y, self.current_depth + 1)\n",
    "        self.children['left'].expand_node(max_depth, parent_label=self.majority_label())\n",
    "\n",
    "        # Right Child\n",
    "        right_x = self.x_train[right_mask]\n",
    "        right_y = self.y_train[right_mask]\n",
    "        self.children['right'] = TrainingNode(right_x, right_y, self.current_depth + 1)\n",
    "        self.children['right'].expand_node(max_depth, parent_label=self.majority_label())\n",
    "\n",
    "    def predict_one(self, x):\n",
    "        if self.split_feature is None or len(self.children) == 0:\n",
    "            return self.label\n",
    "        \n",
    "        # Always binary split (left/right)\n",
    "        if x[self.split_feature] <= self.split_value:\n",
    "            return self.children['left'].predict_one(x)\n",
    "        else:\n",
    "            return self.children['right'].predict_one(x)\n",
    "\n",
    "    def predict(self, X):\n",
    "        return [self.predict_one(row) for _, row in X.iterrows()]"
   ]
  },
  {
   "cell_type": "markdown",
   "metadata": {},
   "source": [
    "# training at different levels"
   ]
  },
  {
   "cell_type": "code",
   "execution_count": 101,
   "metadata": {},
   "outputs": [],
   "source": [
    "# train at different levels\n",
    "\n",
    "for depth in valid_depths:\n",
    "    root = TrainingNode(x_train, y_train, current_depth=0)\n",
    "    root.expand_node(max_depth=depth)\n",
    "    trained_trees[depth] = root"
   ]
  },
  {
   "cell_type": "markdown",
   "metadata": {},
   "source": [
    "# choosing best depth"
   ]
  },
  {
   "cell_type": "code",
   "execution_count": 102,
   "metadata": {},
   "outputs": [
    {
     "name": "stdout",
     "output_type": "stream",
     "text": [
      "Depth=4, Validation Accuracy=0.8696\n",
      "Depth=5, Validation Accuracy=0.8804\n",
      "Depth=6, Validation Accuracy=0.8370\n",
      "Depth=7, Validation Accuracy=0.8152\n",
      "Depth=8, Validation Accuracy=0.7935\n",
      "Depth=9, Validation Accuracy=0.8043\n",
      "Depth=10, Validation Accuracy=0.8152\n",
      "Depth=11, Validation Accuracy=0.8261\n",
      "Depth=12, Validation Accuracy=0.8152\n",
      "Depth=13, Validation Accuracy=0.8152\n",
      "Depth=14, Validation Accuracy=0.8152\n",
      "Depth=15, Validation Accuracy=0.8152\n",
      "Depth=16, Validation Accuracy=0.8152\n",
      "\n",
      "Best Depth: 5 with Validation Accuracy: 0.8804\n"
     ]
    }
   ],
   "source": [
    "# evaluation using validation set (determine best depth without overfitting)\n",
    "from sklearn.metrics import accuracy_score\n",
    "def evaluate_tree(tree, x_val, y_val):\n",
    "    predictions = tree.predict(x_val)\n",
    "    return accuracy_score(y_val, predictions)\n",
    "\n",
    "\n",
    "best_val_score = 0.0\n",
    "\n",
    "for depth, tree in trained_trees.items():\n",
    "    val_score = evaluate_tree(tree, x_val, y_val)\n",
    "    print(f\"Depth={depth}, Validation Accuracy={val_score:.4f}\")\n",
    "    \n",
    "    if val_score >= best_val_score:\n",
    "        best_val_score = val_score\n",
    "        best_depth = depth\n",
    "        best_tree = tree\n",
    "\n",
    "print(f\"\\nBest Depth: {best_depth} with Validation Accuracy: {best_val_score:.4f}\")"
   ]
  },
  {
   "cell_type": "markdown",
   "metadata": {},
   "source": [
    "# Results and Evaluation"
   ]
  },
  {
   "cell_type": "code",
   "execution_count": 103,
   "metadata": {},
   "outputs": [
    {
     "name": "stdout",
     "output_type": "stream",
     "text": [
      "Test Accuracy: 0.8315\n",
      "Test F1 Score: 0.8426\n"
     ]
    },
    {
     "data": {
      "image/png": "[encoded data removed]",
      "text/plain": [
       "<Figure size 800x600 with 2 Axes>"
      ]
     },
     "metadata": {},
     "output_type": "display_data"
    }
   ],
   "source": [
    "import matplotlib.pyplot as plt\n",
    "import seaborn as sns\n",
    "from sklearn.metrics import confusion_matrix, accuracy_score, f1_score\n",
    "\n",
    "# Assuming best_tree is the trained optimal tree, and x_test, y_test are your test data and labels:\n",
    "test_predictions = best_tree.predict(x_test)\n",
    "\n",
    "# Compute performance metrics\n",
    "accuracy = accuracy_score(y_test, test_predictions)\n",
    "f1 = f1_score(y_test, test_predictions)\n",
    "conf_matrix = confusion_matrix(y_test, test_predictions)\n",
    "\n",
    "# Output the accuracy and F1 score\n",
    "print(f\"Test Accuracy: {accuracy:.4f}\")\n",
    "print(f\"Test F1 Score: {f1:.4f}\")\n",
    "\n",
    "# Plot confusion matrix as a heat map\n",
    "plt.figure(figsize=(8, 6))\n",
    "sns.heatmap(conf_matrix, annot=True, fmt=\"d\", cmap=\"Blues\")\n",
    "plt.xlabel(\"Predicted Label\")\n",
    "plt.ylabel(\"Actual Label\")\n",
    "plt.title(\"Confusion Matrix\")\n",
    "plt.show()\n"
   ]
  }
 ],
 "metadata": {
  "kernelspec": {
   "display_name": "base",
   "language": "python",
   "name": "python3"
  },
  "language_info": {
   "codemirror_mode": {
    "name": "ipython",
    "version": 3
   },
   "file_extension": ".py",
   "mimetype": "text/x-python",
   "name": "python",
   "nbconvert_exporter": "python",
   "pygments_lexer": "ipython3",
   "version": "3.9.13"
  }
 },
 "nbformat": 4,
 "nbformat_minor": 2
}
