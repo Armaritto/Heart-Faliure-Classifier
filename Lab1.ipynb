{
 "cells": [
  {
   "cell_type": "markdown",
   "metadata": {},
   "source": [
    "# Decision Tree part"
   ]
  },
  {
   "cell_type": "markdown",
   "metadata": {},
   "source": [
    "# data loading and splitting"
   ]
  },
  {
   "cell_type": "code",
   "execution_count": 1,
   "metadata": {},
   "outputs": [
    {
     "name": "stdout",
     "output_type": "stream",
     "text": [
      "Training Set: (642, 20), Validation: (92, 20), Test: (184, 20)\n"
     ]
    }
   ],
   "source": [
    "import pandas as pd\n",
    "from sklearn.model_selection import train_test_split\n",
    "from sklearn.preprocessing import OneHotEncoder, StandardScaler\n",
    "import numpy as np\n",
    "\n",
    "# Load and clean data\n",
    "df = pd.read_csv(\"heart.csv\")\n",
    "df.columns = df.columns.str.strip()\n",
    "\n",
    "# Identify categorical and numerical columns\n",
    "cat_col = [col for col in df.columns if df[col].dtype == 'object']\n",
    "num_col = [col for col in df.columns if (df[col].dtype in ['int64', 'float64']) \n",
    "          and (col != \"HeartDisease\")]\n",
    "\n",
    "# Split data into features (X) and target (Y)\n",
    "X = df.drop(\"HeartDisease\", axis=1)\n",
    "Y = df[\"HeartDisease\"]\n",
    "\n",
    "# Split into train, validation, and test sets\n",
    "x_train, x_temp, y_train, y_temp = train_test_split(\n",
    "    X, Y, test_size=0.30, stratify=Y, random_state=42\n",
    ")\n",
    "x_val, x_test, y_val, y_test = train_test_split(\n",
    "    x_temp, y_temp, test_size=2/3, stratify=y_temp, random_state=42\n",
    ")\n",
    "\n",
    "# Reset indices to ensure alignment between features and labels\n",
    "x_train = x_train.reset_index(drop=True)\n",
    "y_train = y_train.reset_index(drop=True)\n",
    "x_val = x_val.reset_index(drop=True)\n",
    "y_val = y_val.reset_index(drop=True)\n",
    "x_test = x_test.reset_index(drop=True)\n",
    "y_test = y_test.reset_index(drop=True)\n",
    "\n",
    "# Initialize encoders/scalers\n",
    "ohe = OneHotEncoder(handle_unknown=\"ignore\", sparse=False)\n",
    "scaler = StandardScaler()\n",
    "\n",
    "# Process training data\n",
    "x_train_cat = ohe.fit_transform(x_train[cat_col])\n",
    "x_train_num = scaler.fit_transform(x_train[num_col])\n",
    "x_train_processed = np.hstack([x_train_num, x_train_cat])\n",
    "\n",
    "# Process validation/test data\n",
    "x_val_cat = ohe.transform(x_val[cat_col])\n",
    "x_val_num = scaler.transform(x_val[num_col])\n",
    "x_val_processed = np.hstack([x_val_num, x_val_cat])\n",
    "\n",
    "x_test_cat = ohe.transform(x_test[cat_col])\n",
    "x_test_num = scaler.transform(x_test[num_col])\n",
    "x_test_processed = np.hstack([x_test_num, x_test_cat])\n",
    "\n",
    "# Get feature names\n",
    "num_feature_names = num_col\n",
    "cat_feature_names = ohe.get_feature_names_out(cat_col)\n",
    "all_feature_names = num_feature_names + list(cat_feature_names)\n",
    "\n",
    "# Create DataFrames with reset indices\n",
    "x_train = pd.DataFrame(x_train_processed, columns=all_feature_names)\n",
    "x_val = pd.DataFrame(x_val_processed, columns=all_feature_names)\n",
    "x_test = pd.DataFrame(x_test_processed, columns=all_feature_names)\n",
    "\n",
    "print(f\"Training Set: {x_train.shape}, Validation: {x_val.shape}, Test: {x_test.shape}\")"
   ]
  },
  {
   "cell_type": "markdown",
   "metadata": {},
   "source": [
    "# different depths to try with "
   ]
  },
  {
   "cell_type": "code",
   "execution_count": 2,
   "metadata": {},
   "outputs": [],
   "source": [
    "\n",
    "#min depth of a full binary tree log2(918)=10 , the best depth is around this value\n",
    "valid_depths=[4,5,6,7,8,9,10,11,12,13,14,15,16]\n",
    "trained_trees={}   # map from depth to training node\n"
   ]
  },
  {
   "cell_type": "markdown",
   "metadata": {},
   "source": [
    "# Node class"
   ]
  },
  {
   "cell_type": "code",
   "execution_count": 5,
   "metadata": {},
   "outputs": [],
   "source": [
    "import math\n",
    "import random\n",
    "\n",
    "class TrainingNode:\n",
    "    def __init__(self, x_train, y_train, current_depth=0, label=None):\n",
    "        self.x_train = x_train\n",
    "        self.y_train = y_train\n",
    "        self.current_depth = current_depth\n",
    "        self.label = label\n",
    "        self.split_feature = None\n",
    "        self.split_value = None\n",
    "        self.children = {}\n",
    "\n",
    "    def compute_entropy(self, y):\n",
    "        if len(y) == 0:\n",
    "            return 0\n",
    "        proportions = y.value_counts(normalize=True)\n",
    "        return -sum(p * math.log2(p) for p in proportions if p > 0)\n",
    "\n",
    "    def majority_label(self):\n",
    "        if len(self.y_train) == 0:\n",
    "            return self.label\n",
    "        return self.y_train.mode()[0]\n",
    "\n",
    "    def best_split(self):\n",
    "        base_entropy = self.compute_entropy(self.y_train)\n",
    "        best_gain = 0\n",
    "        best_feature = None\n",
    "        best_value = None\n",
    "        \n",
    "        for feature in self.x_train.columns:\n",
    "            values = self.x_train[feature]\n",
    "            \n",
    "            if pd.api.types.is_numeric_dtype(values):\n",
    "                sorted_vals = sorted(values.unique())\n",
    "                for i in range(len(sorted_vals) - 1):\n",
    "                    threshold = (sorted_vals[i] + sorted_vals[i+1]) / 2\n",
    "                    left_mask = values <= threshold\n",
    "                    right_mask = values > threshold\n",
    "\n",
    "                    # Calculate entropy for left and right\n",
    "                    left_entropy = self.compute_entropy(self.y_train[left_mask])\n",
    "                    right_entropy = self.compute_entropy(self.y_train[right_mask])\n",
    "\n",
    "                    weighted_entropy = (\n",
    "                        left_mask.sum() * left_entropy\n",
    "                        + right_mask.sum() * right_entropy\n",
    "                    ) / len(self.y_train)\n",
    "\n",
    "                    gain = base_entropy - weighted_entropy\n",
    "                    if gain > best_gain:\n",
    "                        best_gain = gain\n",
    "                        best_feature = feature\n",
    "                        best_value = threshold\n",
    "        \n",
    "        return best_feature, best_value, best_gain\n",
    "\n",
    "    def expand_node(self, max_depth, parent_label=None):\n",
    "        # 1) If node has no samples, set label to parent's majority\n",
    "        if self.x_train.shape[0] == 0:\n",
    "            self.label = parent_label\n",
    "            return\n",
    "        \n",
    "        # 2) Stop if max depth reached or node is pure\n",
    "        if self.current_depth >= max_depth or self.compute_entropy(self.y_train) == 0:\n",
    "            self.label = self.majority_label()\n",
    "            return\n",
    "        \n",
    "        # 3) Find best split \n",
    "        best_feature, best_value, gain = self.best_split()\n",
    "\n",
    "        if best_feature is None:\n",
    "            best_feature = random.choice(list(self.x_train.columns))\n",
    "            values = self.x_train[best_feature]\n",
    "            if pd.api.types.is_numeric_dtype(values):\n",
    "                min_val = values.min()\n",
    "                max_val = values.max()\n",
    "                best_value = random.uniform(min_val, max_val)\n",
    "            else:\n",
    "                best_value = 0.5\n",
    "        \n",
    "        self.split_feature = best_feature\n",
    "        self.split_value = best_value\n",
    "\n",
    "        # Create left and right children\n",
    "        left_mask = self.x_train[best_feature] <= best_value\n",
    "        right_mask = ~left_mask\n",
    "\n",
    "        # Left Child\n",
    "        left_x = self.x_train[left_mask]\n",
    "        left_y = self.y_train[left_mask]\n",
    "        self.children['left'] = TrainingNode(left_x, left_y, self.current_depth + 1)\n",
    "        self.children['left'].expand_node(max_depth, parent_label=self.majority_label())\n",
    "\n",
    "        # Right Child\n",
    "        right_x = self.x_train[right_mask]\n",
    "        right_y = self.y_train[right_mask]\n",
    "        self.children['right'] = TrainingNode(right_x, right_y, self.current_depth + 1)\n",
    "        self.children['right'].expand_node(max_depth, parent_label=self.majority_label())\n",
    "\n",
    "    def predict_one(self, x):\n",
    "        if self.split_feature is None or len(self.children) == 0:\n",
    "            return self.label\n",
    "        \n",
    "        if x[self.split_feature] <= self.split_value:\n",
    "            return self.children['left'].predict_one(x)\n",
    "        else:\n",
    "            return self.children['right'].predict_one(x)\n",
    "\n",
    "    def predict(self, X):\n",
    "        return [self.predict_one(row) for _, row in X.iterrows()]"
   ]
  },
  {
   "cell_type": "markdown",
   "metadata": {},
   "source": [
    "# training at different levels"
   ]
  },
  {
   "cell_type": "code",
   "execution_count": 6,
   "metadata": {},
   "outputs": [],
   "source": [
    "# train at different levels\n",
    "\n",
    "for depth in valid_depths:\n",
    "    root = TrainingNode(x_train, y_train, current_depth=0)\n",
    "    root.expand_node(max_depth=depth)\n",
    "    trained_trees[depth] = root"
   ]
  },
  {
   "cell_type": "markdown",
   "metadata": {},
   "source": [
    "# choosing best depth"
   ]
  },
  {
   "cell_type": "code",
   "execution_count": 7,
   "metadata": {},
   "outputs": [
    {
     "name": "stdout",
     "output_type": "stream",
     "text": [
      "Depth=4, Validation Accuracy=0.8696\n",
      "Depth=5, Validation Accuracy=0.8804\n",
      "Depth=6, Validation Accuracy=0.8370\n",
      "Depth=7, Validation Accuracy=0.8152\n",
      "Depth=8, Validation Accuracy=0.7935\n",
      "Depth=9, Validation Accuracy=0.8043\n",
      "Depth=10, Validation Accuracy=0.8152\n",
      "Depth=11, Validation Accuracy=0.8261\n",
      "Depth=12, Validation Accuracy=0.8152\n",
      "Depth=13, Validation Accuracy=0.8152\n",
      "Depth=14, Validation Accuracy=0.8152\n",
      "Depth=15, Validation Accuracy=0.8152\n",
      "Depth=16, Validation Accuracy=0.8152\n",
      "\n",
      "Best Depth: 5 with Validation Accuracy: 0.8804\n"
     ]
    }
   ],
   "source": [
    "# evaluation using validation set (determine best depth without overfitting)\n",
    "from sklearn.metrics import accuracy_score\n",
    "def evaluate_tree(tree, x_val, y_val):\n",
    "    predictions = tree.predict(x_val)\n",
    "    return accuracy_score(y_val, predictions)\n",
    "\n",
    "\n",
    "best_val_score = 0.0\n",
    "\n",
    "for depth, tree in trained_trees.items():\n",
    "    val_score = evaluate_tree(tree, x_val, y_val)\n",
    "    print(f\"Depth={depth}, Validation Accuracy={val_score:.4f}\")\n",
    "    \n",
    "    if val_score >= best_val_score:\n",
    "        best_val_score = val_score\n",
    "        best_depth = depth\n",
    "        best_tree = tree\n",
    "\n",
    "print(f\"\\nBest Depth: {best_depth} with Validation Accuracy: {best_val_score:.4f}\")"
   ]
  },
  {
   "cell_type": "markdown",
   "metadata": {},
   "source": [
    "# Results and Evaluation"
   ]
  },
  {
   "cell_type": "code",
   "execution_count": 8,
   "metadata": {},
   "outputs": [
    {
     "name": "stdout",
     "output_type": "stream",
     "text": [
      "Test Accuracy: 0.8315\n",
      "Test F1 Score: 0.8426\n"
     ]
    },
    {
     "data": {
      "image/png": "[encoded data removed]",
      "text/plain": [
       "<Figure size 800x600 with 2 Axes>"
      ]
     },
     "metadata": {},
     "output_type": "display_data"
    }
   ],
   "source": [
    "import matplotlib.pyplot as plt\n",
    "import seaborn as sns\n",
    "from sklearn.metrics import confusion_matrix, accuracy_score, f1_score\n",
    "\n",
    "test_predictions = best_tree.predict(x_test)\n",
    "\n",
    "# Compute performance metrics\n",
    "accuracy = accuracy_score(y_test, test_predictions)\n",
    "f1 = f1_score(y_test, test_predictions)\n",
    "conf_matrix = confusion_matrix(y_test, test_predictions)\n",
    "\n",
    "# Output the accuracy and F1 score\n",
    "print(f\"Test Accuracy: {accuracy:.4f}\")\n",
    "print(f\"Test F1 Score: {f1:.4f}\")\n",
    "\n",
    "# Plot confusion matrix as a heat map\n",
    "plt.figure(figsize=(8, 6))\n",
    "sns.heatmap(conf_matrix, annot=True, fmt=\"d\", cmap=\"Blues\")\n",
    "plt.xlabel(\"Predicted Label\")\n",
    "plt.ylabel(\"Actual Label\")\n",
    "plt.title(\"Confusion Matrix\")\n",
    "plt.show()\n"
   ]
  },
  {
   "cell_type": "markdown",
   "metadata": {},
   "source": [
    "# Neural netwok part"
   ]
  },
  {
   "cell_type": "code",
   "execution_count": 9,
   "metadata": {},
   "outputs": [
    {
     "ename": "ModuleNotFoundError",
     "evalue": "No module named 'tensorflow'",
     "output_type": "error",
     "traceback": [
      "\u001b[1;31m---------------------------------------------------------------------------\u001b[0m",
      "\u001b[1;31mModuleNotFoundError\u001b[0m                       Traceback (most recent call last)",
      "\u001b[1;32m~\\AppData\\Local\\Temp\\ipykernel_22044\\1328138717.py\u001b[0m in \u001b[0;36m<module>\u001b[1;34m\u001b[0m\n\u001b[1;32m----> 1\u001b[1;33m \u001b[1;32mimport\u001b[0m \u001b[0mtensorflow\u001b[0m \u001b[1;32mas\u001b[0m \u001b[0mtf\u001b[0m\u001b[1;33m\u001b[0m\u001b[1;33m\u001b[0m\u001b[0m\n\u001b[0m\u001b[0;32m      2\u001b[0m \u001b[1;32mfrom\u001b[0m \u001b[0mtensorflow\u001b[0m\u001b[1;33m.\u001b[0m\u001b[0mkeras\u001b[0m\u001b[1;33m.\u001b[0m\u001b[0mmodels\u001b[0m \u001b[1;32mimport\u001b[0m \u001b[0mSequential\u001b[0m\u001b[1;33m\u001b[0m\u001b[1;33m\u001b[0m\u001b[0m\n\u001b[0;32m      3\u001b[0m \u001b[1;32mfrom\u001b[0m \u001b[0mtensorflow\u001b[0m\u001b[1;33m.\u001b[0m\u001b[0mkeras\u001b[0m\u001b[1;33m.\u001b[0m\u001b[0mlayers\u001b[0m \u001b[1;32mimport\u001b[0m \u001b[0mDense\u001b[0m\u001b[1;33m\u001b[0m\u001b[1;33m\u001b[0m\u001b[0m\n\u001b[0;32m      4\u001b[0m \u001b[1;32mfrom\u001b[0m \u001b[0mtensorflow\u001b[0m\u001b[1;33m.\u001b[0m\u001b[0mkeras\u001b[0m\u001b[1;33m.\u001b[0m\u001b[0moptimizers\u001b[0m \u001b[1;32mimport\u001b[0m \u001b[0mAdam\u001b[0m\u001b[1;33m\u001b[0m\u001b[1;33m\u001b[0m\u001b[0m\n\u001b[0;32m      5\u001b[0m \u001b[1;32mfrom\u001b[0m \u001b[0mtensorflow\u001b[0m\u001b[1;33m.\u001b[0m\u001b[0mkeras\u001b[0m\u001b[1;33m.\u001b[0m\u001b[0mcallbacks\u001b[0m \u001b[1;32mimport\u001b[0m \u001b[0mEarlyStopping\u001b[0m\u001b[1;33m\u001b[0m\u001b[1;33m\u001b[0m\u001b[0m\n",
      "\u001b[1;31mModuleNotFoundError\u001b[0m: No module named 'tensorflow'"
     ]
    }
   ],
   "source": [
    "import tensorflow as tf\n",
    "from tensorflow.keras.models import Sequential\n",
    "from tensorflow.keras.layers import Dense\n",
    "from tensorflow.keras.optimizers import Adam\n",
    "from tensorflow.keras.callbacks import EarlyStopping\n",
    "import matplotlib.pyplot as plt\n",
    "import seaborn as sns\n",
    "\n",
    "# Define hyperparameter values to tune and choose best one\n",
    "learning_rates = [0.001, 0.0001]         # 0.01 get very harsh curves\n",
    "hidden_neurons = [16, 32]\n",
    "\n",
    "# Track the best model\n",
    "best_val_acc = 0\n",
    "best_model = None\n",
    "best_hyperparams = None\n",
    "best_history = None \n",
    "\n",
    "# Define early stopping to prevent overfitting\n",
    "early_stopping = EarlyStopping(monitor='val_loss', patience=5, restore_best_weights=True)\n",
    "\n",
    "for lr in learning_rates:\n",
    "    for neurons in hidden_neurons:\n",
    "        print(f\"\\nTraining model with {neurons} neurons and learning rate {lr}\")\n",
    "\n",
    "        # Dense for fully connected layer and sequential as it goes forward only \n",
    "        model = Sequential([\n",
    "            Dense(neurons, activation='relu', input_shape=(x_train.shape[1],)),\n",
    "            Dense(1, activation='sigmoid')\n",
    "        ])\n",
    "\n",
    "        # Adam is an optimizer using stochastic gradient descent and optimizing learing rate for different parameters\n",
    "        optimizer = Adam(learning_rate=lr)\n",
    "        model.compile(optimizer=optimizer, loss='binary_crossentropy', metrics=['accuracy'])\n",
    "\n",
    "        # Train model\n",
    "        history = model.fit(x_train, y_train, \n",
    "                            epochs=100, batch_size=32, \n",
    "                            validation_data=(x_val, y_val), \n",
    "                            callbacks=[early_stopping], verbose=0)\n",
    "        \n",
    "        # Evaluate on validation set\n",
    "        val_loss, val_acc = model.evaluate(x_val, y_val, verbose=0)\n",
    "        print(f\"Validation Accuracy: {val_acc:.4f}\")\n",
    "\n",
    "        # Save best model and history based on validation accuracy\n",
    "        if val_acc > best_val_acc:\n",
    "            best_val_acc = val_acc\n",
    "            best_model = model\n",
    "            best_hyperparams = (neurons, lr)\n",
    "            best_history = history  \n",
    "\n",
    "# Print best model configuration\n",
    "best_neurons, best_lr = best_hyperparams\n",
    "print(f\"\\nBest model: {best_neurons} neurons with learning rate {best_lr}\")\n",
    "\n",
    "# Evaluate best model on test set\n",
    "test_loss, test_acc = best_model.evaluate(x_test, y_test, verbose=0)\n",
    "print(f\"\\nTest accuracy for best model ({best_neurons} neurons, LR={best_lr}): {test_acc:.4f}\")\n",
    "\n",
    "# Generate Predictions\n",
    "y_pred_probs = best_model.predict(x_test)\n",
    "y_pred = (y_pred_probs > 0.5).astype(int)  # get label from probability \n",
    "\n",
    "# Compute F1 Score\n",
    "f1 = f1_score(y_test, y_pred)\n",
    "print(f\"\\nF1 Score: {f1:.4f}\")\n",
    "\n",
    "# Generate Confusion Matrix\n",
    "conf_matrix = confusion_matrix(y_test, y_pred)\n",
    "\n",
    "# Plot Confusion Matrix Heatmap\n",
    "plt.figure(figsize=(6, 5))\n",
    "sns.heatmap(conf_matrix, annot=True, fmt='d', cmap='Blues', xticklabels=[\"0\", \"1\"], yticklabels=[\"0\", \"1\"])\n",
    "plt.xlabel('Predicted Label')\n",
    "plt.ylabel('Actual Label')\n",
    "plt.title('Confusion Matrix Heatmap')\n",
    "plt.show()\n",
    "\n",
    "# Plot training history for the best model\n",
    "plt.figure(figsize=(12, 4))\n",
    "\n",
    "plt.subplot(1, 2, 1)\n",
    "plt.plot(best_history.history['loss'], label='Train Loss')\n",
    "plt.plot(best_history.history['val_loss'], label='Validation Loss')\n",
    "plt.xlabel('Epochs')\n",
    "plt.ylabel('Loss')\n",
    "plt.legend()\n",
    "\n",
    "plt.subplot(1, 2, 2)\n",
    "plt.plot(best_history.history['accuracy'], label='Train Accuracy')\n",
    "plt.plot(best_history.history['val_accuracy'], label='Validation Accuracy')\n",
    "plt.xlabel('Epochs')\n",
    "plt.ylabel('Accuracy')\n",
    "plt.legend()\n",
    "\n",
    "plt.show()\n"
   ]
  },
  {
   "cell_type": "markdown",
   "metadata": {},
   "source": [
    "# Bagging"
   ]
  },
  {
   "cell_type": "code",
   "execution_count": 10,
   "metadata": {},
   "outputs": [],
   "source": [
    "from sklearn.utils import resample\n",
    "from collections import Counter\n",
    "\n",
    "class BaggingClassifier:\n",
    "    def __init__(self, n_estimators=20):\n",
    "        self.n_estimators = n_estimators\n",
    "        self.estimators = []\n",
    "    \n",
    "    def fit(self, x, y):\n",
    "        self.estimators = []\n",
    "        for _ in range(self.n_estimators):\n",
    "            x_sample, y_sample = resample(x, y, random_state=42)\n",
    "            estimator = TrainingNode(x_sample, y_sample, current_depth=0)\n",
    "            estimator.expand_node(max_depth=5)\n",
    "            self.estimators.append(estimator)\n",
    "    \n",
    "    def predict(self, x):\n",
    "        predictions = np.array([estimator.predict(x) for estimator in self.estimators])\n",
    "        # Majority vote\n",
    "        final_predictions = []\n",
    "        for i in range(x.shape[0]):\n",
    "            vote = Counter(predictions[:, i])\n",
    "            final_predictions.append(vote.most_common(1)[0][0])\n",
    "        return np.array(final_predictions)\n"
   ]
  },
  {
   "cell_type": "markdown",
   "metadata": {},
   "source": [
    "## Training"
   ]
  },
  {
   "cell_type": "code",
   "execution_count": 11,
   "metadata": {},
   "outputs": [],
   "source": [
    "model = BaggingClassifier()\n",
    "model.fit(x_train, y_train)\n"
   ]
  },
  {
   "cell_type": "markdown",
   "metadata": {},
   "source": [
    "# Results and Evaluation"
   ]
  },
  {
   "cell_type": "code",
   "execution_count": 12,
   "metadata": {},
   "outputs": [
    {
     "name": "stdout",
     "output_type": "stream",
     "text": [
      "Test Accuracy: 0.8152\n",
      "Test F1 Score: 0.8283\n"
     ]
    },
    {
     "data": {
      "image/png": "[encoded data removed]",
      "text/plain": [
       "<Figure size 800x600 with 2 Axes>"
      ]
     },
     "metadata": {},
     "output_type": "display_data"
    }
   ],
   "source": [
    "import matplotlib.pyplot as plt\n",
    "import seaborn as sns\n",
    "from sklearn.metrics import confusion_matrix, accuracy_score, f1_score\n",
    "\n",
    "\n",
    "y_pred = model.predict(x_test)\n",
    "\n",
    "# Compute performance metrics\n",
    "accuracy = accuracy_score(y_test, y_pred)\n",
    "f1 = f1_score(y_test, y_pred)\n",
    "conf_matrix = confusion_matrix(y_test, y_pred)\n",
    "\n",
    "# Output the accuracy and F1 score\n",
    "print(f\"Test Accuracy: {accuracy:.4f}\")\n",
    "print(f\"Test F1 Score: {f1:.4f}\")\n",
    "\n",
    "# Plot confusion matrix as a heat map\n",
    "plt.figure(figsize=(8, 6))\n",
    "sns.heatmap(conf_matrix, annot=True, fmt=\"d\", cmap=\"Blues\")\n",
    "plt.xlabel(\"Predicted Label\")\n",
    "plt.ylabel(\"Actual Label\")\n",
    "plt.title(\"Confusion Matrix\")\n",
    "plt.show()"
   ]
  },
  {
   "cell_type": "markdown",
   "metadata": {},
   "source": [
    "# Logistic Regression"
   ]
  },
  {
   "cell_type": "code",
   "execution_count": null,
   "metadata": {},
   "outputs": [
    {
     "name": "stdout",
     "output_type": "stream",
     "text": [
      "Test Accuracy: 0.8750\n",
      "Test F1 Score: 0.8889\n"
     ]
    },
    {
     "data": {
      "image/png": "[encoded data removed]",
      "text/plain": [
       "<Figure size 800x600 with 2 Axes>"
      ]
     },
     "metadata": {},
     "output_type": "display_data"
    }
   ],
   "source": [
    "from sklearn.linear_model import LogisticRegression\n",
    "from sklearn.metrics import accuracy_score, classification_report\n",
    "\n",
    "model = LogisticRegression(max_iter=100, random_state=42)\n",
    "model.fit(x_train, y_train)\n",
    "\n",
    "y_test_pred = model.predict(x_test)\n",
    "test_accuracy = accuracy_score(y_test, y_test_pred)\n",
    "\n",
    "f1 = f1_score(y_test, y_test_pred)\n",
    "conf_matrix = confusion_matrix(y_test, y_test_pred)\n",
    "\n",
    "# Output the accuracy and F1 score\n",
    "print(f\"Test Accuracy: {test_accuracy:.4f}\")\n",
    "print(f\"Test F1 Score: {f1:.4f}\")\n",
    "\n",
    "# Plot confusion matrix as a heat map\n",
    "plt.figure(figsize=(8, 6))\n",
    "sns.heatmap(conf_matrix, annot=True, fmt=\"d\", cmap=\"Blues\")\n",
    "plt.xlabel(\"Predicted Label\")\n",
    "plt.ylabel(\"Actual Label\")\n",
    "plt.title(\"Confusion Matrix\")\n",
    "plt.show()"
   ]
  },
  {
   "cell_type": "markdown",
   "metadata": {},
   "source": [
    "# Stump class"
   ]
  },
  {
   "cell_type": "code",
   "execution_count": 13,
   "metadata": {},
   "outputs": [],
   "source": [
    "class Stump:\n",
    "    def __init__(self):\n",
    "        self.best_split = None\n",
    "        self.best_threshold = None\n",
    "        self.classification_direction = 1\n",
    "        self.min_error = float(\"inf\")\n",
    "        self.weight = None\n",
    "    \n",
    "    def misclassification_error(self, y, predictions, sample_weights):\n",
    "        return np.sum(sample_weights[predictions != y])\n",
    "    \n",
    "    def change_min_error(self, error, feature, threshold, direction):\n",
    "        self.min_error = error\n",
    "        self.best_split = feature\n",
    "        self.best_threshold = threshold\n",
    "        self.classification_direction = direction\n",
    "\n",
    "    def fit(self, x, y, sample_weights):\n",
    "        num_samples, num_features = x.shape\n",
    "\n",
    "        # iterate over all features and all possible thresholds to find the best decision stump\n",
    "        for feature in range(num_features):\n",
    "            feature_values = np.unique(x[:, feature])\n",
    "            for threshold in feature_values:\n",
    "                for direction in [0, 1]:\n",
    "                    predictions = np.ones(num_samples)\n",
    "                    if direction == 1:\n",
    "                        predictions[x[:, feature] < threshold] = 0\n",
    "                    else:\n",
    "                        predictions[x[:, feature] > threshold] = 0\n",
    "\n",
    "                    error = self.misclassification_error(y, predictions, sample_weights)\n",
    "\n",
    "                    if error < self.min_error:\n",
    "                        self.change_min_error(error, feature, threshold, direction)\n",
    "                        \n",
    "\n",
    "    def predict(self, x):\n",
    "        N = x.shape[0]\n",
    "        predictions = np.ones(N)\n",
    "        if self.classification_direction == 1:\n",
    "            for i in range(N):\n",
    "                if x[i, self.best_split] < self.best_threshold:\n",
    "                    predictions[i] = 0\n",
    "        else:\n",
    "            for i in range(N):\n",
    "                if x[i, self.best_split] > self.best_threshold:\n",
    "                    predictions[i] = 0\n",
    "\n",
    "        return predictions"
   ]
  },
  {
   "cell_type": "markdown",
   "metadata": {},
   "source": [
    "# Adaboost Class"
   ]
  },
  {
   "cell_type": "code",
   "execution_count": 14,
   "metadata": {},
   "outputs": [],
   "source": [
    "class Adaboost:\n",
    "    def __init__(self, num_iterations):\n",
    "        self.num_iterations = num_iterations\n",
    "        self.weights = []\n",
    "        self.stumps = []\n",
    "\n",
    "    def train(self, x, y):\n",
    "        num_samples = x.shape[0]\n",
    "        sample_weights = np.ones(num_samples) / num_samples\n",
    "\n",
    "        for _ in range(self.num_iterations):\n",
    "            stump = Stump()\n",
    "            stump.fit(x, y, sample_weights)\n",
    "            predictions = stump.predict(x)\n",
    "\n",
    "            error = np.sum(sample_weights[predictions != y]) / np.sum(sample_weights)\n",
    "\n",
    "            if error > 0.5:\n",
    "                print(\"Error is greater than 0.5, stopping training because it's worse than random guessing\")\n",
    "                break\n",
    "\n",
    "            weight = 0.5 * np.log((1 - error) / error)\n",
    "            stump.weight = weight\n",
    "\n",
    "            sample_weights *= np.exp(-weight * (2 * y - 1) * (2 * predictions - 1))\n",
    "            sample_weights /= np.sum(sample_weights)\n",
    "\n",
    "            self.stumps.append(stump)\n",
    "            self.weights.append(weight)\n",
    "\n",
    "    def predict(self, x):\n",
    "        num_samples = x.shape[0]\n",
    "        final_predictions = np.zeros(num_samples)\n",
    "\n",
    "        for stump, weight in zip(self.stumps, self.weights):\n",
    "            final_predictions += weight * stump.predict(x)\n",
    "\n",
    "        return (final_predictions >= (0.5 * sum(self.weights))).astype(int)"
   ]
  },
  {
   "cell_type": "markdown",
   "metadata": {},
   "source": [
    "# Training the Model"
   ]
  },
  {
   "cell_type": "code",
   "execution_count": 15,
   "metadata": {},
   "outputs": [],
   "source": [
    "adaboost = Adaboost(num_iterations=50)\n",
    "adaboost.train(x_train.values, y_train.values)\n",
    "prediction_train = adaboost.predict(x_train.values)\n",
    "prediction_val = adaboost.predict(x_val.values)\n",
    "prediction_test = adaboost.predict(x_test.values)"
   ]
  },
  {
   "cell_type": "markdown",
   "metadata": {},
   "source": [
    "# Results and Evaluation"
   ]
  },
  {
   "cell_type": "code",
   "execution_count": 16,
   "metadata": {},
   "outputs": [
    {
     "name": "stdout",
     "output_type": "stream",
     "text": [
      "Test Accuracy: 0.8641\n",
      "Test F1 Score: 0.8731\n"
     ]
    },
    {
     "data": {
      "image/png": "[encoded data removed]",
      "text/plain": [
       "<Figure size 800x600 with 2 Axes>"
      ]
     },
     "metadata": {},
     "output_type": "display_data"
    }
   ],
   "source": [
    "import matplotlib.pyplot as plt\n",
    "import seaborn as sns\n",
    "from sklearn.metrics import confusion_matrix, accuracy_score, f1_score\n",
    "\n",
    "accuracy = accuracy_score(y_test, prediction_test)\n",
    "f1 = f1_score(y_test, prediction_test)\n",
    "conf_matrix = confusion_matrix(y_test, prediction_test)\n",
    "\n",
    "print(f\"Test Accuracy: {accuracy:.4f}\")\n",
    "print(f\"Test F1 Score: {f1:.4f}\")\n",
    "\n",
    "plt.figure(figsize=(8, 6))\n",
    "sns.heatmap(conf_matrix, annot=True, fmt=\"d\", cmap=\"Blues\")\n",
    "plt.xlabel(\"Predicted Label\")\n",
    "plt.ylabel(\"Actual Label\")\n",
    "plt.title(\"Confusion Matrix\")\n",
    "plt.show()"
   ]
  },
  {
   "cell_type": "markdown",
   "metadata": {},
   "source": [
    "# KNN - Training Data on Arbitrary K"
   ]
  },
  {
   "cell_type": "code",
   "execution_count": 17,
   "metadata": {},
   "outputs": [
    {
     "name": "stdout",
     "output_type": "stream",
     "text": [
      "Train Score: 0.8754\n",
      "Validation Score: 0.8913\n",
      "Test Score: 0.8750\n"
     ]
    },
    {
     "name": "stderr",
     "output_type": "stream",
     "text": [
      "c:\\Users\\M\\anaconda3\\lib\\site-packages\\sklearn\\neighbors\\_classification.py:228: FutureWarning: Unlike other reduction functions (e.g. `skew`, `kurtosis`), the default behavior of `mode` typically preserves the axis it acts along. In SciPy 1.11.0, this behavior will change: the default value of `keepdims` will become False, the `axis` over which the statistic is taken will be eliminated, and the value None will no longer be accepted. Set `keepdims` to True or False to avoid this warning.\n",
      "  mode, _ = stats.mode(_y[neigh_ind, k], axis=1)\n",
      "c:\\Users\\M\\anaconda3\\lib\\site-packages\\sklearn\\neighbors\\_classification.py:228: FutureWarning: Unlike other reduction functions (e.g. `skew`, `kurtosis`), the default behavior of `mode` typically preserves the axis it acts along. In SciPy 1.11.0, this behavior will change: the default value of `keepdims` will become False, the `axis` over which the statistic is taken will be eliminated, and the value None will no longer be accepted. Set `keepdims` to True or False to avoid this warning.\n",
      "  mode, _ = stats.mode(_y[neigh_ind, k], axis=1)\n",
      "c:\\Users\\M\\anaconda3\\lib\\site-packages\\sklearn\\neighbors\\_classification.py:228: FutureWarning: Unlike other reduction functions (e.g. `skew`, `kurtosis`), the default behavior of `mode` typically preserves the axis it acts along. In SciPy 1.11.0, this behavior will change: the default value of `keepdims` will become False, the `axis` over which the statistic is taken will be eliminated, and the value None will no longer be accepted. Set `keepdims` to True or False to avoid this warning.\n",
      "  mode, _ = stats.mode(_y[neigh_ind, k], axis=1)\n"
     ]
    }
   ],
   "source": [
    "from sklearn.neighbors import KNeighborsClassifier\n",
    "\n",
    "knn = KNeighborsClassifier(n_neighbors=5)\n",
    "knn.fit(x_train, y_train)\n",
    "\n",
    "train_score = knn.score(x_train, y_train)\n",
    "val_score = knn.score(x_val, y_val)\n",
    "test_score = knn.score(x_test, y_test)\n",
    "\n",
    "print(f\"Train Score: {train_score:.4f}\")\n",
    "print(f\"Validation Score: {val_score:.4f}\")\n",
    "print(f\"Test Score: {test_score:.4f}\")"
   ]
  },
  {
   "cell_type": "markdown",
   "metadata": {},
   "source": [
    "# Tune Hyperparameters"
   ]
  },
  {
   "cell_type": "code",
   "execution_count": 18,
   "metadata": {},
   "outputs": [
    {
     "name": "stdout",
     "output_type": "stream",
     "text": [
      "Best k: 11\n"
     ]
    },
    {
     "name": "stderr",
     "output_type": "stream",
     "text": [
      "c:\\Users\\M\\anaconda3\\lib\\site-packages\\sklearn\\neighbors\\_classification.py:228: FutureWarning: Unlike other reduction functions (e.g. `skew`, `kurtosis`), the default behavior of `mode` typically preserves the axis it acts along. In SciPy 1.11.0, this behavior will change: the default value of `keepdims` will become False, the `axis` over which the statistic is taken will be eliminated, and the value None will no longer be accepted. Set `keepdims` to True or False to avoid this warning.\n",
      "  mode, _ = stats.mode(_y[neigh_ind, k], axis=1)\n",
      "c:\\Users\\M\\anaconda3\\lib\\site-packages\\sklearn\\neighbors\\_classification.py:228: FutureWarning: Unlike other reduction functions (e.g. `skew`, `kurtosis`), the default behavior of `mode` typically preserves the axis it acts along. In SciPy 1.11.0, this behavior will change: the default value of `keepdims` will become False, the `axis` over which the statistic is taken will be eliminated, and the value None will no longer be accepted. Set `keepdims` to True or False to avoid this warning.\n",
      "  mode, _ = stats.mode(_y[neigh_ind, k], axis=1)\n",
      "c:\\Users\\M\\anaconda3\\lib\\site-packages\\sklearn\\neighbors\\_classification.py:228: FutureWarning: Unlike other reduction functions (e.g. `skew`, `kurtosis`), the default behavior of `mode` typically preserves the axis it acts along. In SciPy 1.11.0, this behavior will change: the default value of `keepdims` will become False, the `axis` over which the statistic is taken will be eliminated, and the value None will no longer be accepted. Set `keepdims` to True or False to avoid this warning.\n",
      "  mode, _ = stats.mode(_y[neigh_ind, k], axis=1)\n",
      "c:\\Users\\M\\anaconda3\\lib\\site-packages\\sklearn\\neighbors\\_classification.py:228: FutureWarning: Unlike other reduction functions (e.g. `skew`, `kurtosis`), the default behavior of `mode` typically preserves the axis it acts along. In SciPy 1.11.0, this behavior will change: the default value of `keepdims` will become False, the `axis` over which the statistic is taken will be eliminated, and the value None will no longer be accepted. Set `keepdims` to True or False to avoid this warning.\n",
      "  mode, _ = stats.mode(_y[neigh_ind, k], axis=1)\n",
      "c:\\Users\\M\\anaconda3\\lib\\site-packages\\sklearn\\neighbors\\_classification.py:228: FutureWarning: Unlike other reduction functions (e.g. `skew`, `kurtosis`), the default behavior of `mode` typically preserves the axis it acts along. In SciPy 1.11.0, this behavior will change: the default value of `keepdims` will become False, the `axis` over which the statistic is taken will be eliminated, and the value None will no longer be accepted. Set `keepdims` to True or False to avoid this warning.\n",
      "  mode, _ = stats.mode(_y[neigh_ind, k], axis=1)\n",
      "c:\\Users\\M\\anaconda3\\lib\\site-packages\\sklearn\\neighbors\\_classification.py:228: FutureWarning: Unlike other reduction functions (e.g. `skew`, `kurtosis`), the default behavior of `mode` typically preserves the axis it acts along. In SciPy 1.11.0, this behavior will change: the default value of `keepdims` will become False, the `axis` over which the statistic is taken will be eliminated, and the value None will no longer be accepted. Set `keepdims` to True or False to avoid this warning.\n",
      "  mode, _ = stats.mode(_y[neigh_ind, k], axis=1)\n",
      "c:\\Users\\M\\anaconda3\\lib\\site-packages\\sklearn\\neighbors\\_classification.py:228: FutureWarning: Unlike other reduction functions (e.g. `skew`, `kurtosis`), the default behavior of `mode` typically preserves the axis it acts along. In SciPy 1.11.0, this behavior will change: the default value of `keepdims` will become False, the `axis` over which the statistic is taken will be eliminated, and the value None will no longer be accepted. Set `keepdims` to True or False to avoid this warning.\n",
      "  mode, _ = stats.mode(_y[neigh_ind, k], axis=1)\n",
      "c:\\Users\\M\\anaconda3\\lib\\site-packages\\sklearn\\neighbors\\_classification.py:228: FutureWarning: Unlike other reduction functions (e.g. `skew`, `kurtosis`), the default behavior of `mode` typically preserves the axis it acts along. In SciPy 1.11.0, this behavior will change: the default value of `keepdims` will become False, the `axis` over which the statistic is taken will be eliminated, and the value None will no longer be accepted. Set `keepdims` to True or False to avoid this warning.\n",
      "  mode, _ = stats.mode(_y[neigh_ind, k], axis=1)\n",
      "c:\\Users\\M\\anaconda3\\lib\\site-packages\\sklearn\\neighbors\\_classification.py:228: FutureWarning: Unlike other reduction functions (e.g. `skew`, `kurtosis`), the default behavior of `mode` typically preserves the axis it acts along. In SciPy 1.11.0, this behavior will change: the default value of `keepdims` will become False, the `axis` over which the statistic is taken will be eliminated, and the value None will no longer be accepted. Set `keepdims` to True or False to avoid this warning.\n",
      "  mode, _ = stats.mode(_y[neigh_ind, k], axis=1)\n",
      "c:\\Users\\M\\anaconda3\\lib\\site-packages\\sklearn\\neighbors\\_classification.py:228: FutureWarning: Unlike other reduction functions (e.g. `skew`, `kurtosis`), the default behavior of `mode` typically preserves the axis it acts along. In SciPy 1.11.0, this behavior will change: the default value of `keepdims` will become False, the `axis` over which the statistic is taken will be eliminated, and the value None will no longer be accepted. Set `keepdims` to True or False to avoid this warning.\n",
      "  mode, _ = stats.mode(_y[neigh_ind, k], axis=1)\n",
      "c:\\Users\\M\\anaconda3\\lib\\site-packages\\sklearn\\neighbors\\_classification.py:228: FutureWarning: Unlike other reduction functions (e.g. `skew`, `kurtosis`), the default behavior of `mode` typically preserves the axis it acts along. In SciPy 1.11.0, this behavior will change: the default value of `keepdims` will become False, the `axis` over which the statistic is taken will be eliminated, and the value None will no longer be accepted. Set `keepdims` to True or False to avoid this warning.\n",
      "  mode, _ = stats.mode(_y[neigh_ind, k], axis=1)\n",
      "c:\\Users\\M\\anaconda3\\lib\\site-packages\\sklearn\\neighbors\\_classification.py:228: FutureWarning: Unlike other reduction functions (e.g. `skew`, `kurtosis`), the default behavior of `mode` typically preserves the axis it acts along. In SciPy 1.11.0, this behavior will change: the default value of `keepdims` will become False, the `axis` over which the statistic is taken will be eliminated, and the value None will no longer be accepted. Set `keepdims` to True or False to avoid this warning.\n",
      "  mode, _ = stats.mode(_y[neigh_ind, k], axis=1)\n",
      "c:\\Users\\M\\anaconda3\\lib\\site-packages\\sklearn\\neighbors\\_classification.py:228: FutureWarning: Unlike other reduction functions (e.g. `skew`, `kurtosis`), the default behavior of `mode` typically preserves the axis it acts along. In SciPy 1.11.0, this behavior will change: the default value of `keepdims` will become False, the `axis` over which the statistic is taken will be eliminated, and the value None will no longer be accepted. Set `keepdims` to True or False to avoid this warning.\n",
      "  mode, _ = stats.mode(_y[neigh_ind, k], axis=1)\n",
      "c:\\Users\\M\\anaconda3\\lib\\site-packages\\sklearn\\neighbors\\_classification.py:228: FutureWarning: Unlike other reduction functions (e.g. `skew`, `kurtosis`), the default behavior of `mode` typically preserves the axis it acts along. In SciPy 1.11.0, this behavior will change: the default value of `keepdims` will become False, the `axis` over which the statistic is taken will be eliminated, and the value None will no longer be accepted. Set `keepdims` to True or False to avoid this warning.\n",
      "  mode, _ = stats.mode(_y[neigh_ind, k], axis=1)\n",
      "c:\\Users\\M\\anaconda3\\lib\\site-packages\\sklearn\\neighbors\\_classification.py:228: FutureWarning: Unlike other reduction functions (e.g. `skew`, `kurtosis`), the default behavior of `mode` typically preserves the axis it acts along. In SciPy 1.11.0, this behavior will change: the default value of `keepdims` will become False, the `axis` over which the statistic is taken will be eliminated, and the value None will no longer be accepted. Set `keepdims` to True or False to avoid this warning.\n",
      "  mode, _ = stats.mode(_y[neigh_ind, k], axis=1)\n",
      "c:\\Users\\M\\anaconda3\\lib\\site-packages\\sklearn\\neighbors\\_classification.py:228: FutureWarning: Unlike other reduction functions (e.g. `skew`, `kurtosis`), the default behavior of `mode` typically preserves the axis it acts along. In SciPy 1.11.0, this behavior will change: the default value of `keepdims` will become False, the `axis` over which the statistic is taken will be eliminated, and the value None will no longer be accepted. Set `keepdims` to True or False to avoid this warning.\n",
      "  mode, _ = stats.mode(_y[neigh_ind, k], axis=1)\n",
      "c:\\Users\\M\\anaconda3\\lib\\site-packages\\sklearn\\neighbors\\_classification.py:228: FutureWarning: Unlike other reduction functions (e.g. `skew`, `kurtosis`), the default behavior of `mode` typically preserves the axis it acts along. In SciPy 1.11.0, this behavior will change: the default value of `keepdims` will become False, the `axis` over which the statistic is taken will be eliminated, and the value None will no longer be accepted. Set `keepdims` to True or False to avoid this warning.\n",
      "  mode, _ = stats.mode(_y[neigh_ind, k], axis=1)\n",
      "c:\\Users\\M\\anaconda3\\lib\\site-packages\\sklearn\\neighbors\\_classification.py:228: FutureWarning: Unlike other reduction functions (e.g. `skew`, `kurtosis`), the default behavior of `mode` typically preserves the axis it acts along. In SciPy 1.11.0, this behavior will change: the default value of `keepdims` will become False, the `axis` over which the statistic is taken will be eliminated, and the value None will no longer be accepted. Set `keepdims` to True or False to avoid this warning.\n",
      "  mode, _ = stats.mode(_y[neigh_ind, k], axis=1)\n",
      "c:\\Users\\M\\anaconda3\\lib\\site-packages\\sklearn\\neighbors\\_classification.py:228: FutureWarning: Unlike other reduction functions (e.g. `skew`, `kurtosis`), the default behavior of `mode` typically preserves the axis it acts along. In SciPy 1.11.0, this behavior will change: the default value of `keepdims` will become False, the `axis` over which the statistic is taken will be eliminated, and the value None will no longer be accepted. Set `keepdims` to True or False to avoid this warning.\n",
      "  mode, _ = stats.mode(_y[neigh_ind, k], axis=1)\n"
     ]
    }
   ],
   "source": [
    "models = []\n",
    "for k in range(1, 20):\n",
    "    knn = KNeighborsClassifier(n_neighbors=k)\n",
    "    knn.fit(x_train, y_train)\n",
    "    models.append(knn)\n",
    "\n",
    "val_scores = [model.score(x_val, y_val) for model in models]\n",
    "best_k = np.argmax(val_scores) + 1\n",
    "print(f\"Best k: {best_k}\")"
   ]
  },
  {
   "cell_type": "markdown",
   "metadata": {},
   "source": [
    "# Train on K = 11\n"
   ]
  },
  {
   "cell_type": "code",
   "execution_count": 19,
   "metadata": {},
   "outputs": [
    {
     "name": "stdout",
     "output_type": "stream",
     "text": [
      "Train Score: 0.8707\n",
      "Validation Score: 0.9348\n",
      "Test Score: 0.8859\n"
     ]
    },
    {
     "name": "stderr",
     "output_type": "stream",
     "text": [
      "c:\\Users\\M\\anaconda3\\lib\\site-packages\\sklearn\\neighbors\\_classification.py:228: FutureWarning: Unlike other reduction functions (e.g. `skew`, `kurtosis`), the default behavior of `mode` typically preserves the axis it acts along. In SciPy 1.11.0, this behavior will change: the default value of `keepdims` will become False, the `axis` over which the statistic is taken will be eliminated, and the value None will no longer be accepted. Set `keepdims` to True or False to avoid this warning.\n",
      "  mode, _ = stats.mode(_y[neigh_ind, k], axis=1)\n",
      "c:\\Users\\M\\anaconda3\\lib\\site-packages\\sklearn\\neighbors\\_classification.py:228: FutureWarning: Unlike other reduction functions (e.g. `skew`, `kurtosis`), the default behavior of `mode` typically preserves the axis it acts along. In SciPy 1.11.0, this behavior will change: the default value of `keepdims` will become False, the `axis` over which the statistic is taken will be eliminated, and the value None will no longer be accepted. Set `keepdims` to True or False to avoid this warning.\n",
      "  mode, _ = stats.mode(_y[neigh_ind, k], axis=1)\n",
      "c:\\Users\\M\\anaconda3\\lib\\site-packages\\sklearn\\neighbors\\_classification.py:228: FutureWarning: Unlike other reduction functions (e.g. `skew`, `kurtosis`), the default behavior of `mode` typically preserves the axis it acts along. In SciPy 1.11.0, this behavior will change: the default value of `keepdims` will become False, the `axis` over which the statistic is taken will be eliminated, and the value None will no longer be accepted. Set `keepdims` to True or False to avoid this warning.\n",
      "  mode, _ = stats.mode(_y[neigh_ind, k], axis=1)\n"
     ]
    }
   ],
   "source": [
    "from sklearn.neighbors import KNeighborsClassifier\n",
    "\n",
    "knn = KNeighborsClassifier(n_neighbors=11)\n",
    "knn.fit(x_train, y_train)\n",
    "\n",
    "train_score = knn.score(x_train, y_train)\n",
    "val_score = knn.score(x_val, y_val)\n",
    "test_score = knn.score(x_test, y_test)\n",
    "\n",
    "print(f\"Train Score: {train_score:.4f}\")\n",
    "print(f\"Validation Score: {val_score:.4f}\")\n",
    "print(f\"Test Score: {test_score:.4f}\")"
   ]
  },
  {
   "cell_type": "markdown",
   "metadata": {},
   "source": [
    "# Results and Evaluation"
   ]
  },
  {
   "cell_type": "code",
   "execution_count": 20,
   "metadata": {},
   "outputs": [
    {
     "name": "stderr",
     "output_type": "stream",
     "text": [
      "c:\\Users\\M\\anaconda3\\lib\\site-packages\\sklearn\\neighbors\\_classification.py:228: FutureWarning: Unlike other reduction functions (e.g. `skew`, `kurtosis`), the default behavior of `mode` typically preserves the axis it acts along. In SciPy 1.11.0, this behavior will change: the default value of `keepdims` will become False, the `axis` over which the statistic is taken will be eliminated, and the value None will no longer be accepted. Set `keepdims` to True or False to avoid this warning.\n",
      "  mode, _ = stats.mode(_y[neigh_ind, k], axis=1)\n"
     ]
    },
    {
     "name": "stdout",
     "output_type": "stream",
     "text": [
      "Test Accuracy: 0.8859\n",
      "Test F1 Score: 0.8986\n"
     ]
    },
    {
     "data": {
      "image/png": "[encoded data removed]",
      "text/plain": [
       "<Figure size 800x600 with 2 Axes>"
      ]
     },
     "metadata": {},
     "output_type": "display_data"
    }
   ],
   "source": [
    "import matplotlib.pyplot as plt\n",
    "import seaborn as sns\n",
    "from sklearn.metrics import confusion_matrix, accuracy_score, f1_score\n",
    "\n",
    "prediction_test = knn.predict(x_test)\n",
    "accuracy = accuracy_score(y_test, prediction_test)\n",
    "f1 = f1_score(y_test, prediction_test)\n",
    "conf_matrix = confusion_matrix(y_test, prediction_test)\n",
    "\n",
    "print(f\"Test Accuracy: {accuracy:.4f}\")\n",
    "print(f\"Test F1 Score: {f1:.4f}\")\n",
    "\n",
    "plt.figure(figsize=(8, 6))\n",
    "sns.heatmap(conf_matrix, annot=True, fmt=\"d\", cmap=\"Blues\")\n",
    "plt.xlabel(\"Predicted Label\")\n",
    "plt.ylabel(\"Actual Label\")\n",
    "plt.title(\"Confusion Matrix\")\n",
    "plt.show()"
   ]
  }
 ],
 "metadata": {
  "kernelspec": {
   "display_name": "base",
   "language": "python",
   "name": "python3"
  },
  "language_info": {
   "codemirror_mode": {
    "name": "ipython",
    "version": 3
   },
   "file_extension": ".py",
   "mimetype": "text/x-python",
   "name": "python",
   "nbconvert_exporter": "python",
   "pygments_lexer": "ipython3",
   "version": "3.9.13"
  }
 },
 "nbformat": 4,
 "nbformat_minor": 2
}
