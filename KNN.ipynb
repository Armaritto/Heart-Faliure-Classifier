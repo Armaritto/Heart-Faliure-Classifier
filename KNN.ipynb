{
 "cells": [
  {
   "cell_type": "markdown",
   "metadata": {},
   "source": [
    "# Data Loading and Splitting"
   ]
  },
  {
   "cell_type": "code",
   "execution_count": 1,
   "metadata": {},
   "outputs": [
    {
     "name": "stdout",
     "output_type": "stream",
     "text": [
      "Training Set: (642, 20), Validation: (92, 20), Test: (184, 20)\n"
     ]
    }
   ],
   "source": [
    "import pandas as pd\n",
    "from sklearn.model_selection import train_test_split\n",
    "from sklearn.preprocessing import OneHotEncoder, StandardScaler\n",
    "import numpy as np\n",
    "\n",
    "# Load and clean data\n",
    "df = pd.read_csv(\"heart.csv\")\n",
    "df.columns = df.columns.str.strip()\n",
    "\n",
    "# Identify categorical and numerical columns\n",
    "cat_col = [col for col in df.columns if df[col].dtype == 'object']\n",
    "num_col = [col for col in df.columns if (df[col].dtype in ['int64', 'float64']) \n",
    "          and (col != \"HeartDisease\")]\n",
    "\n",
    "# Split data into features (X) and target (Y)\n",
    "x = df.drop(\"HeartDisease\", axis=1)\n",
    "Y = df[\"HeartDisease\"]\n",
    "\n",
    "# Split into train, validation, and test sets\n",
    "x_train, x_temp, y_train, y_temp = train_test_split(\n",
    "    x, Y, test_size=0.30, stratify=Y, random_state=42\n",
    ")\n",
    "x_val, x_test, y_val, y_test = train_test_split(\n",
    "    x_temp, y_temp, test_size=2/3, stratify=y_temp, random_state=42\n",
    ")\n",
    "\n",
    "# Reset indices to ensure alignment between features and labels\n",
    "x_train = x_train.reset_index(drop=True)\n",
    "y_train = y_train.reset_index(drop=True)\n",
    "x_val = x_val.reset_index(drop=True)\n",
    "y_val = y_val.reset_index(drop=True)\n",
    "x_test = x_test.reset_index(drop=True)\n",
    "y_test = y_test.reset_index(drop=True)\n",
    "\n",
    "# Initialize encoders/scalers\n",
    "ohe = OneHotEncoder(handle_unknown=\"ignore\", sparse_output=False)\n",
    "scaler = StandardScaler()\n",
    "\n",
    "# Process training data\n",
    "x_train_cat = ohe.fit_transform(x_train[cat_col])\n",
    "x_train_num = scaler.fit_transform(x_train[num_col])\n",
    "x_train_processed = np.hstack([x_train_num, x_train_cat])\n",
    "\n",
    "# Process validation/test data\n",
    "x_val_cat = ohe.transform(x_val[cat_col])\n",
    "x_val_num = scaler.transform(x_val[num_col])\n",
    "x_val_processed = np.hstack([x_val_num, x_val_cat])\n",
    "\n",
    "x_test_cat = ohe.transform(x_test[cat_col])\n",
    "x_test_num = scaler.transform(x_test[num_col])\n",
    "x_test_processed = np.hstack([x_test_num, x_test_cat])\n",
    "\n",
    "# Get feature names\n",
    "num_feature_names = num_col\n",
    "cat_feature_names = ohe.get_feature_names_out(cat_col)\n",
    "all_feature_names = num_feature_names + list(cat_feature_names)\n",
    "\n",
    "# Create DataFrames with reset indices\n",
    "x_train = pd.DataFrame(x_train_processed, columns=all_feature_names)\n",
    "x_val = pd.DataFrame(x_val_processed, columns=all_feature_names)\n",
    "x_test = pd.DataFrame(x_test_processed, columns=all_feature_names)\n",
    "\n",
    "print(f\"Training Set: {x_train.shape}, Validation: {x_val.shape}, Test: {x_test.shape}\")"
   ]
  },
  {
   "cell_type": "markdown",
   "metadata": {},
   "source": [
    "# Training Data on Arbitrary K"
   ]
  },
  {
   "cell_type": "code",
   "execution_count": 6,
   "metadata": {},
   "outputs": [
    {
     "name": "stdout",
     "output_type": "stream",
     "text": [
      "Train Score: 0.8754\n",
      "Validation Score: 0.8913\n",
      "Test Score: 0.8750\n"
     ]
    }
   ],
   "source": [
    "from sklearn.neighbors import KNeighborsClassifier\n",
    "\n",
    "knn = KNeighborsClassifier(n_neighbors=5)\n",
    "knn.fit(x_train, y_train)\n",
    "\n",
    "train_score = knn.score(x_train, y_train)\n",
    "val_score = knn.score(x_val, y_val)\n",
    "test_score = knn.score(x_test, y_test)\n",
    "\n",
    "print(f\"Train Score: {train_score:.4f}\")\n",
    "print(f\"Validation Score: {val_score:.4f}\")\n",
    "print(f\"Test Score: {test_score:.4f}\")"
   ]
  },
  {
   "cell_type": "markdown",
   "metadata": {},
   "source": [
    "# Tune Hyperparameters"
   ]
  },
  {
   "cell_type": "code",
   "execution_count": 10,
   "metadata": {},
   "outputs": [
    {
     "name": "stdout",
     "output_type": "stream",
     "text": [
      "Best k: 11\n"
     ]
    }
   ],
   "source": [
    "models = []\n",
    "for k in range(1, 20):\n",
    "    knn = KNeighborsClassifier(n_neighbors=k)\n",
    "    knn.fit(x_train, y_train)\n",
    "    models.append(knn)\n",
    "\n",
    "val_scores = [model.score(x_val, y_val) for model in models]\n",
    "best_k = np.argmax(val_scores) + 1\n",
    "print(f\"Best k: {best_k}\")"
   ]
  },
  {
   "cell_type": "markdown",
   "metadata": {},
   "source": [
    "# Train on K = 11\n"
   ]
  },
  {
   "cell_type": "code",
   "execution_count": 11,
   "metadata": {},
   "outputs": [
    {
     "name": "stdout",
     "output_type": "stream",
     "text": [
      "Train Score: 0.8707\n",
      "Validation Score: 0.9348\n",
      "Test Score: 0.8859\n"
     ]
    }
   ],
   "source": [
    "from sklearn.neighbors import KNeighborsClassifier\n",
    "\n",
    "knn = KNeighborsClassifier(n_neighbors=11)\n",
    "knn.fit(x_train, y_train)\n",
    "\n",
    "train_score = knn.score(x_train, y_train)\n",
    "val_score = knn.score(x_val, y_val)\n",
    "test_score = knn.score(x_test, y_test)\n",
    "\n",
    "print(f\"Train Score: {train_score:.4f}\")\n",
    "print(f\"Validation Score: {val_score:.4f}\")\n",
    "print(f\"Test Score: {test_score:.4f}\")"
   ]
  },
  {
   "cell_type": "markdown",
   "metadata": {},
   "source": [
    "# Results and Evaluation"
   ]
  },
  {
   "cell_type": "code",
   "execution_count": 12,
   "metadata": {},
   "outputs": [
    {
     "name": "stdout",
     "output_type": "stream",
     "text": [
      "Test Accuracy: 0.8859\n",
      "Test F1 Score: 0.8986\n"
     ]
    },
    {
     "data": {
      "image/png": "[encoded data removed]",
      "text/plain": [
       "<Figure size 800x600 with 2 Axes>"
      ]
     },
     "metadata": {},
     "output_type": "display_data"
    }
   ],
   "source": [
    "import matplotlib.pyplot as plt\n",
    "import seaborn as sns\n",
    "from sklearn.metrics import confusion_matrix, accuracy_score, f1_score\n",
    "\n",
    "prediction_test = knn.predict(x_test)\n",
    "accuracy = accuracy_score(y_test, prediction_test)\n",
    "f1 = f1_score(y_test, prediction_test)\n",
    "conf_matrix = confusion_matrix(y_test, prediction_test)\n",
    "\n",
    "print(f\"Test Accuracy: {accuracy:.4f}\")\n",
    "print(f\"Test F1 Score: {f1:.4f}\")\n",
    "\n",
    "plt.figure(figsize=(8, 6))\n",
    "sns.heatmap(conf_matrix, annot=True, fmt=\"d\", cmap=\"Blues\")\n",
    "plt.xlabel(\"Predicted Label\")\n",
    "plt.ylabel(\"Actual Label\")\n",
    "plt.title(\"Confusion Matrix\")\n",
    "plt.show()"
   ]
  }
 ],
 "metadata": {
  "kernelspec": {
   "display_name": "Python (snakes)",
   "language": "python",
   "name": "snakes"
  },
  "language_info": {
   "codemirror_mode": {
    "name": "ipython",
    "version": 3
   },
   "file_extension": ".py",
   "mimetype": "text/x-python",
   "name": "python",
   "nbconvert_exporter": "python",
   "pygments_lexer": "ipython3",
   "version": "3.12.3"
  }
 },
 "nbformat": 4,
 "nbformat_minor": 2
}
